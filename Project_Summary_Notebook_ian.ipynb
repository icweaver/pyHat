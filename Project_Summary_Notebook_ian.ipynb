{
 "cells": [
  {
   "cell_type": "markdown",
   "metadata": {},
   "source": [
    "# Rank-normalization, folding, and localization: An improved $\\widehat{R}$ for assessing convergence of MCMC by Vehtari et al. 2019\n",
    "\n",
    "### Students: Tanveer Karim and Ian Weaver\n",
    "### Course: APMTH 207\n",
    "### GitHub Repository: https://github.com/icweaver/pyhat\n",
    "### Paper: https://ui.adsabs.harvard.edu/abs/2019arXiv190308008V/abstract"
   ]
  },
  {
   "cell_type": "markdown",
   "metadata": {},
   "source": [
    "## Problem Statement and Existing Work\n",
    "$\\newcommand{\\rhat}{\\widehat R}$\n",
    "The traditional $\\rhat$ statistic was first defined by [Gelman and Rubin (1992)](https://www.jstor.org/stable/2246093?seq=1#metadata_info_tab_contents) and the subsequent revision involving the split variation was defined by [Gelman et al. (2013)](https://books.google.com/books/about/Bayesian_Data_Analysis.html?id=eSHSBQAAQBAJ). These statistics theoretically measure the variance between chains and in chains for an MCMC model and quantifies whether the chains have not mixed well, i.e. whether they have diverged. Along with traceplots, these statistics serve as a powerful way to diagnose whether the MCMC samples can be used for subsequent analysis. \n",
    "\n",
    "However, [Vehtari et al. (2019)](https://ui.adsabs.harvard.edu/abs/2019arXiv190308008V/abstract) showed that the well-known $\\rhat$ statistic and traceplots have limitations and fail in many cases. Thus, they propose an alternative definition of $\\rhat$ and introduce rankplots as an alternative to traceplots as visual diagnostics. "
   ]
  },
  {
   "cell_type": "markdown",
   "metadata": {},
   "source": [
    "## Context and Unique Contribution\n",
    "\n",
    "For anyone doing Bayesian analysis over multidimensions, MCMC samplers are paramount for modelling purposes. Beyond 2D, visualizing convergence of MCMC samplers on the parameter space becomes very complicated and we have to resort to alternate methods to understand convergence. Hence, if our well-used statistic and diagnostics are not performing as we expect them to, then almost any complex multidimensional MCMC modelling becomes suspect. Because of this importance, we decided to tackle this paper and understand how to best study convergence issues related to MCMC samplers. "
   ]
  },
  {
   "cell_type": "markdown",
   "metadata": {},
   "source": [
    "## Technical Content\n",
    "\n",
    "talk about ranks and folding"
   ]
  },
  {
   "cell_type": "markdown",
   "metadata": {},
   "source": [
    "## Experiments\n",
    "\n",
    "talk about 1D and 2D examples\n",
    "\n",
    "Ian: exoplanet"
   ]
  },
  {
   "cell_type": "markdown",
   "metadata": {},
   "source": [
    "## Evaluation\n",
    "\n",
    "works well for variance difference, not so good for correlation. expand."
   ]
  },
  {
   "cell_type": "markdown",
   "metadata": {},
   "source": [
    "## Future Work\n",
    "\n",
    "For future work, we would like to understand how to modify $\\widehat{R}$ in a way such that it captures correlation terms from the covariance matrix. Right now, off-diagonal terms do not contribute at all, as shown in [toymodel_2DGaussian](examples/toymodel_gaussian/toymodel_2DGaussian.ipynb). We would like to explore and understand if there is a better way quantify changes in the correlation terms. One possible avenue is to understand the relationship between $\\widehat{R}$ and autocorrelation function and see if there is a way to unify them together. "
   ]
  }
 ],
 "metadata": {
  "kernelspec": {
   "display_name": "Python 3",
   "language": "python",
   "name": "python3"
  },
  "language_info": {
   "codemirror_mode": {
    "name": "ipython",
    "version": 3
   },
   "file_extension": ".py",
   "mimetype": "text/x-python",
   "name": "python",
   "nbconvert_exporter": "python",
   "pygments_lexer": "ipython3",
   "version": "3.7.4"
  },
  "toc": {
   "base_numbering": 1,
   "nav_menu": {},
   "number_sections": false,
   "sideBar": true,
   "skip_h1_title": false,
   "title_cell": "Table of Contents",
   "title_sidebar": "Contents",
   "toc_cell": false,
   "toc_position": {},
   "toc_section_display": true,
   "toc_window_display": true
  }
 },
 "nbformat": 4,
 "nbformat_minor": 2
}
